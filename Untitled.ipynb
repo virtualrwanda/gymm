{
 "cells": [
  {
   "cell_type": "code",
   "execution_count": null,
   "id": "39306c88",
   "metadata": {},
   "outputs": [],
   "source": [
    "# Distribution of categorical features\n",
    "categorical_cols = ['Gender', 'FitnessGoal', 'PreferredExercise', 'SuggestedSport']\n",
    "for col in categorical_cols:\n",
    "    sns.countplot(x=col, data=df)\n",
    "    plt.xticks(rotation=45, ha='right')  # Rotate labels for better readability\n",
    "    plt.title(f\"Distribution of {col}\")\n",
    "    plt.show()\n",
    "\n",
    "# Relationships between features (examples)\n",
    "sns.pairplot(df[['Age', 'Height', 'Weight', 'RestingHR', 'WorkoutHR']])\n",
    "plt.show()\n",
    "\n",
    "sns.boxplot(x='FitnessGoal', y='Age', data=df)\n",
    "plt.xticks(rotation=45, ha='right')\n",
    "plt.show()\n",
    "\n",
    "# Correlation matrix for numerical features\n",
    "corr_matrix = df[['Age', 'Height', 'Weight', 'RestingHR', 'WorkoutHR']].corr()\n",
    "sns.heatmap(corr_matrix, annot=True, cmap='coolwarm')\n",
    "plt.show()\n",
    "\n",
    "# 3. Data Preprocessing\n",
    "\n",
    "# a. Handling Missing Values (if any - check your data)\n",
    "# In this synthetic data example, there should be no missing values.\n",
    "# But in real data, you would use methods like:\n",
    "# df.dropna()  # Remove rows with missing values (if appropriate)\n",
    "# df.fillna(df.mean())  # Fill with the mean (for numerical features)\n",
    "# df.fillna(df.mode()[0])  # Fill with the mode (for categorical features)\n",
    "\n",
    "# b. Encoding Categorical Features\n",
    "le = LabelEncoder()\n",
    "for col in categorical_cols:\n",
    "    df[col] = le.fit_transform(df[col])\n",
    "    print(f\"Encoded {col}: {le.classes_}\") # Print the classes for reference\n",
    "\n",
    "# c. Feature Scaling (for numerical features)\n",
    "numerical_cols = ['Age', 'Height', 'Weight', 'RestingHR', 'WorkoutHR']\n",
    "scaler = StandardScaler()\n",
    "df[numerical_cols] = scaler.fit_transform(df[numerical_cols])\n",
    "\n",
    "# 4. Prepare Data for Machine Learning\n",
    "\n",
    "X = df.drop('SuggestedSport', axis=1)  # Features\n",
    "y = df['SuggestedSport']  # Target variable\n",
    "\n",
    "# Split data into training and testing sets\n",
    "X_train, X_test, y_train, y_test = train_test_split(X, y, test_size=0.2, random_state=42)  # 80% train, 20% test\n",
    "\n",
    "print(\"Shape of X_train:\", X_train.shape)\n",
    "print(\"Shape of X_test:\", X_test.shape)\n",
    "print(\"Shape of y_train:\", y_train.shape)\n",
    "print(\"Shape of y_test:\", y_test.shape)\n"
   ]
  }
 ],
 "metadata": {
  "kernelspec": {
   "display_name": "Python 3 (ipykernel)",
   "language": "python",
   "name": "python3"
  },
  "language_info": {
   "codemirror_mode": {
    "name": "ipython",
    "version": 3
   },
   "file_extension": ".py",
   "mimetype": "text/x-python",
   "name": "python",
   "nbconvert_exporter": "python",
   "pygments_lexer": "ipython3",
   "version": "3.11.5"
  }
 },
 "nbformat": 4,
 "nbformat_minor": 5
}
